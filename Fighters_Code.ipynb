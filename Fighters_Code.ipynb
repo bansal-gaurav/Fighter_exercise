{
 "cells": [
  {
   "cell_type": "code",
   "execution_count": 453,
   "metadata": {},
   "outputs": [
    {
     "name": "stderr",
     "output_type": "stream",
     "text": [
      "A subdirectory or file C:\\Users\\Gaurav\\Desktop\\My Folder\\Deep Sea Analytics already exists.\n"
     ]
    }
   ],
   "source": [
    "mkdir \"C:\\Users\\Gaurav\\Desktop\\My Folder\\Deep Sea Analytics\""
   ]
  },
  {
   "cell_type": "code",
   "execution_count": 454,
   "metadata": {},
   "outputs": [],
   "source": [
    "import pandas as pd\n",
    "\n",
    "#read the csv files\n",
    "outcome = pd.read_csv(\"outcome_interview.csv\")\n",
    "fighter = pd.read_csv(\"fighter_interview.csv\")\n",
    "event = pd.read_csv(\"event_interview.csv\")"
   ]
  },
  {
   "cell_type": "code",
   "execution_count": 455,
   "metadata": {},
   "outputs": [],
   "source": [
    "#merge the event name with the outcome file\n",
    "fighter_event = pd.merge(outcome,event,how='left',left_on = 'event_id', right_on = 'id')[['fighter1_id','fighter2_id','name']]\n",
    "fighter_event.columns = ['fighter1_id','fighter2_id','event_name']"
   ]
  },
  {
   "cell_type": "code",
   "execution_count": 456,
   "metadata": {},
   "outputs": [],
   "source": [
    "#merger fighter1 name and nationality\n",
    "fighter1_name = pd.merge(fighter_event,fighter,how='left',left_on = 'fighter1_id', right_on = 'id')\n",
    "fighter1_name.columns = ['fighter1_id','fighter2_id','event_name','id_1','fighter1_name','fighter1_nationality']"
   ]
  },
  {
   "cell_type": "code",
   "execution_count": 457,
   "metadata": {},
   "outputs": [],
   "source": [
    "#merger fighter2 name and nationality\n",
    "fighter2_name = pd.merge(fighter1_name,fighter,how='left',left_on = 'fighter2_id', right_on = 'id')\n",
    "fighter2_name.columns = ['fighter1_id','fighter2_id','event_name','id_1','fighter1_name','fighter1_nationality','id_2','fighter2_name','fighter2_nationality']\n",
    "\n",
    "#filter required columns\n",
    "fighter_output = fighter2_name[['fighter1_name','fighter2_name','fighter1_nationality','fighter2_nationality','event_name']]"
   ]
  },
  {
   "cell_type": "code",
   "execution_count": 458,
   "metadata": {},
   "outputs": [],
   "source": [
    "#export output in csv\n",
    "fighter_output.to_csv('fighter_output.csv')"
   ]
  },
  {
   "cell_type": "code",
   "execution_count": 459,
   "metadata": {},
   "outputs": [],
   "source": [
    "#count by each nationailty\n",
    "countries_count1 = fighter_output.groupby(['fighter1_nationality'], as_index = False).count()\n",
    "countries_count1 = countries_count1[['fighter1_nationality','event_name']]\n",
    "countries_count1.columns = ['Country_name','Count']\n",
    "\n",
    "countries_count2 = fighter_output.groupby(['fighter2_nationality'], as_index = False).count()\n",
    "countries_count2 = countries_count2[['fighter2_nationality','event_name']]\n",
    "countries_count2.columns = ['Country_name','Count']"
   ]
  },
  {
   "cell_type": "code",
   "execution_count": 460,
   "metadata": {},
   "outputs": [],
   "source": [
    "#get the list of countries and the count of fighters of each country\n",
    "countries_count = countries_count1.append(countries_count2)\n",
    "countries_count['Country_name'] = [str(i).lower() for i in countries_count['Country_name']] \n",
    "countries_count = countries_count.groupby(['Country_name'], as_index = False).sum()\n",
    "x = countries_count.index[countries_count.Country_name == 'usa']\n",
    "countries_count.loc[x,'Country_name'] = 'united states'\n",
    "countries_count = countries_count.groupby(['Country_name'], as_index = False).sum()"
   ]
  },
  {
   "cell_type": "code",
   "execution_count": 461,
   "metadata": {},
   "outputs": [
    {
     "data": {
      "image/png": "[encoded data removed]",
      "text/plain": [
       "<Figure size 432x288 with 1 Axes>"
      ]
     },
     "metadata": {
      "needs_background": "light"
     },
     "output_type": "display_data"
    }
   ],
   "source": [
    "#filtering countries with count>100 and creating a treemap\n",
    "countries_count = countries_count[countries_count['Count']>100]\n",
    "import squarify\n",
    "import matplotlib.pyplot as plt\n",
    "squarify.plot(sizes=countries_count['Count'], label=countries_count['Country_name'], alpha= 0.4, text_kwargs={'fontsize':8})\n",
    "plt.axis('off')\n",
    "plt.show()"
   ]
  }
 ],
 "metadata": {
  "kernelspec": {
   "display_name": "Python 3",
   "language": "python",
   "name": "python3"
  },
  "language_info": {
   "codemirror_mode": {
    "name": "ipython",
    "version": 3
   },
   "file_extension": ".py",
   "mimetype": "text/x-python",
   "name": "python",
   "nbconvert_exporter": "python",
   "pygments_lexer": "ipython3",
   "version": "3.7.3"
  }
 },
 "nbformat": 4,
 "nbformat_minor": 2
}
